{
 "cells": [
  {
   "cell_type": "code",
   "execution_count": 45,
   "id": "018ad10d-fcb5-41ce-8fd7-db8d62872dfa",
   "metadata": {},
   "outputs": [],
   "source": [
    "import execo\n",
    "import execo_g5k\n",
    "import execo_engine\n",
    "import time\n",
    "import os\n",
    "\n",
    "# this will be /home/lmascare\n",
    "HOME_DIR = os.path.expanduser(\"~\")\n",
    "\n",
    "PATH_TO_SIF_FILE = HOME_DIR + \"/bench/docker/images/bench.sif\"\n",
    "\n",
    "SIMULATION_INI = HOME_DIR + \"/bench/simulation/setup.ini\"\n",
    "PDI_DEISA_YML = HOME_DIR + \"/bench/simulation/io_deisa.yml\"\n",
    "SIM_EXECUTABLE = HOME_DIR + \"/bench/simulation/build/main\"\n",
    "DEISA_PATH = HOME_DIR + \"/bench/deisa/\"\n",
    "\n",
    "SCHEDULER_FILE = HOME_DIR + \"/bench/experiment/scheduler.json\"\n",
    "\n",
    "OUTPUT_DIR = HOME_DIR + \"/bench/experiment/output/\"\n"
   ]
  },
  {
   "cell_type": "code",
   "execution_count": 46,
   "id": "8d0db1f3-6229-4d37-9676-9795b2e9bc6c",
   "metadata": {},
   "outputs": [],
   "source": [
    "\"\"\" \n",
    "Get configs from a .ini file.\n",
    "\n",
    "Arguments:\n",
    "    config_file (str): Path to the .ini configuration file.\n",
    "\"\"\"\n",
    "def get_configs(config_file):\n",
    "    import configparser\n",
    "\n",
    "    config = configparser.ConfigParser()\n",
    "    config.read(config_file)\n",
    "\n",
    "    # Assuming the .ini file has sections and keys\n",
    "    # Example: [section_name] key_name = value\n",
    "    configs = {}\n",
    "    for section in config.sections():\n",
    "        for key, value in config.items(section):\n",
    "            configs[key] = value\n",
    "\n",
    "    return configs"
   ]
  },
  {
   "cell_type": "code",
   "execution_count": 47,
   "id": "21bfd03a",
   "metadata": {},
   "outputs": [
    {
     "name": "stdout",
     "output_type": "stream",
     "text": [
      "Job 2474562 reserved on site grenoble\n",
      "Head node: Host('dahu-27.grenoble.grid5000.fr')\n",
      "Other nodes: [Host('dahu-28.grenoble.grid5000.fr'), Host('dahu-4.grenoble.grid5000.fr')]\n",
      "Total simulation cores: 64\n"
     ]
    }
   ],
   "source": [
    "configs = get_configs(\"simulation/setup.ini\")\n",
    "\n",
    "nb_reserved_nodes = 3\n",
    "\n",
    "jobs = execo_g5k.oarsub(\n",
    "    [\n",
    "        (\n",
    "            execo_g5k.OarSubmission(f\"nodes={nb_reserved_nodes}\", walltime=10*60),\n",
    "            \"grenoble\",\n",
    "        )\n",
    "    ]\n",
    ")\n",
    "\n",
    "job_id, site = jobs[0]\n",
    "print(f\"Job {job_id} reserved on site {site}\")\n",
    "\n",
    "nodes = execo_g5k.oar.get_oar_job_nodes(job_id, site)\n",
    "head_node, nodes = nodes[0], nodes[1:]\n",
    "\n",
    "print(f\"Head node: {head_node}\")\n",
    "print(f\"Other nodes: {nodes}\")\n",
    "\n",
    "\n",
    "cores_per_node = execo_g5k.get_host_attributes(head_node)[\"architecture\"][\"nb_cores\"]\n",
    "total_simulation_cores = cores_per_node * len(nodes)\n",
    "\n",
    "print(f\"Total simulation cores: {total_simulation_cores}\")"
   ]
  },
  {
   "cell_type": "code",
   "execution_count": 48,
   "id": "ebf5ed13-361a-4915-815e-f6a234459527",
   "metadata": {},
   "outputs": [
    {
     "name": "stdout",
     "output_type": "stream",
     "text": [
      "\n",
      "####################\n",
      "Output:\n",
      "\n",
      "--------------------\n",
      "Error:\n",
      "\n",
      "\n",
      "####################\n"
     ]
    }
   ],
   "source": [
    "##########################################################\n",
    "#                   RUNNING SCHEDULER\n",
    "##########################################################\n",
    "# Sending the commands for head node\n",
    "\n",
    "if os.path.exists(SCHEDULER_FILE):\n",
    "    os.remove(SCHEDULER_FILE)\n",
    "\n",
    "#redirecting the output to a file\n",
    "head_node_cmd = (\n",
    "    f\"dask scheduler --scheduler-file {SCHEDULER_FILE}\"\n",
    ")\n",
    "head_node_process = execo.SshProcess(\n",
    "    f'singularity exec {PATH_TO_SIF_FILE} bash -c \"{head_node_cmd}\"',\n",
    "    head_node,\n",
    ")\n",
    "head_node_process.start()\n",
    "\n",
    "print()\n",
    "print(\"#\"*20)\n",
    "print(\"Output:\")\n",
    "print(head_node_process.stdout)\n",
    "print(\"-\"*20)\n",
    "print(\"Error:\")\n",
    "print(head_node_process.stderr)\n",
    "print()\n",
    "print(\"#\"*20)\n"
   ]
  },
  {
   "cell_type": "code",
   "execution_count": null,
   "id": "0de3919f-dde4-4d5b-9f74-7f4c90833502",
   "metadata": {},
   "outputs": [
    {
     "name": "stdout",
     "output_type": "stream",
     "text": [
      "Simulation command:\n",
      "export OMP_NUM_THREADS=2; export OMP_PROC_BIND=spread; export OMP_PLACES=threads; mpirun -np 4 --host dahu-28.grenoble.grid5000.fr:32,dahu-4.grenoble.grid5000.fr:32 singularity exec /home/lmascare/bench/docker/images/bench.sif pdirun /home/lmascare/bench/simulation/build/main /home/lmascare/bench/simulation/setup.ini /home/lmascare/bench/simulation/io_deisa.yml > simulation_output.log 2>&1\n",
      "Output:\n",
      "\n",
      "--------------------\n",
      "Error:\n",
      "Warning: Permanently added 'dahu-28.grenoble.grid5000.fr,172.16.20.28' (ECDSA) to the list of known hosts.\n",
      "Connection to dahu-28.grenoble.grid5000.fr closed.\n",
      "\n",
      "\n",
      "####################\n"
     ]
    }
   ],
   "source": [
    "\n",
    "##########################################################\n",
    "#                   RUNNING SIMULATION\n",
    "##########################################################\n",
    "\n",
    "# Starting the simulation 32 - 30 for sim and 2 for dask \n",
    "\n",
    "\n",
    "# \"\"\"\n",
    "# export OMP_NUM_THREADS=2; \\\n",
    "# export OMP_PROC_BIND=spread; \\\n",
    "# export OMP_PLACES=threads; \\\n",
    "# pdirun /home/lmascare/bench/simulation/build/main /home/lmascare/bench/simulation/setup.ini /home/lmascare/bench/simulation/io_deisa.yml > simulation_output.log 2>&1\"\n",
    "\n",
    "# \"\"\"\n",
    "host_list = \",\".join([f\"{node.address}:{cores_per_node}\" for node in nodes])\n",
    "simulation_cmd = (\n",
    "    f'pdirun {SIM_EXECUTABLE} {SIMULATION_INI} {PDI_DEISA_YML} > /bench/simulation_output.log 2>&1'\n",
    ")\n",
    "\n",
    "# Build the command with two singularity exec calls:\n",
    "mpi_cmd = (\n",
    "    # f'singularity exec {PATH_TO_SIF_FILE} bash -c \"'\n",
    "    # 'module load openmpi; '\n",
    "    'export OMP_NUM_THREADS=2; '\n",
    "    'export OMP_PROC_BIND=spread; '\n",
    "    'export OMP_PLACES=threads; '\n",
    "    f\"mpirun -np 4 \"#{total_simulation_cores} \"\n",
    "    f\"--host {host_list} \"\n",
    "    f\"singularity exec {PATH_TO_SIF_FILE} {simulation_cmd}\"\n",
    ")\n",
    "\n",
    "print(\"Simulation command:\")\n",
    "print(mpi_cmd)\n",
    "mpi_process = execo.SshProcess(\n",
    "    mpi_cmd,\n",
    "    nodes[0],\n",
    ")\n",
    "mpi_process.start()\n",
    "\n",
    "mpi_process.wait()\n",
    "\n",
    "print(\"Output:\")\n",
    "print(mpi_process.stdout)\n",
    "print(\"-\"*20)\n",
    "print(\"Error:\")\n",
    "print(mpi_process.stderr)\n",
    "print()\n",
    "print(\"#\"*20)"
   ]
  },
  {
   "cell_type": "code",
   "execution_count": 11,
   "id": "ef4fb414-b2ad-4dd2-9fcc-a8c8e305a8d8",
   "metadata": {},
   "outputs": [
    {
     "data": {
      "text/plain": [
       "[(2474533, 'grenoble')]"
      ]
     },
     "execution_count": 11,
     "metadata": {},
     "output_type": "execute_result"
    }
   ],
   "source": [
    "jobs"
   ]
  }
 ],
 "metadata": {
  "kernelspec": {
   "display_name": "venv-jupyter",
   "language": "python",
   "name": "python3"
  },
  "language_info": {
   "codemirror_mode": {
    "name": "ipython",
    "version": 3
   },
   "file_extension": ".py",
   "mimetype": "text/x-python",
   "name": "python",
   "nbconvert_exporter": "python",
   "pygments_lexer": "ipython3",
   "version": "3.9.2"
  }
 },
 "nbformat": 4,
 "nbformat_minor": 5
}
